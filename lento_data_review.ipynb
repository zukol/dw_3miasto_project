{
  "nbformat": 4,
  "nbformat_minor": 0,
  "metadata": {
    "colab": {
      "name": "lento_data_review.ipynb",
      "provenance": [],
      "mount_file_id": "1sHSmhcHa75ohzwCnLtmrTsTKBFDtpPFz",
      "authorship_tag": "ABX9TyP1h44WbI03Laju8ur6HKnG",
      "include_colab_link": true
    },
    "kernelspec": {
      "name": "python3",
      "display_name": "Python 3"
    }
  },
  "cells": [
    {
      "cell_type": "markdown",
      "metadata": {
        "id": "view-in-github",
        "colab_type": "text"
      },
      "source": [
        "<a href=\"https://colab.research.google.com/github/zukol/dw_3miasto_project/blob/master/lento_data_review.ipynb\" target=\"_parent\"><img src=\"https://colab.research.google.com/assets/colab-badge.svg\" alt=\"Open In Colab\"/></a>"
      ]
    },
    {
      "cell_type": "code",
      "metadata": {
        "id": "ZUSbTpynaV3-",
        "colab_type": "code",
        "colab": {}
      },
      "source": [
        "import pandas as pd\n",
        "import numpy as np\n"
      ],
      "execution_count": 0,
      "outputs": []
    },
    {
      "cell_type": "code",
      "metadata": {
        "id": "K3fxWCJrZoVw",
        "colab_type": "code",
        "outputId": "570dbb23-f81a-4de1-89a3-b7f1e6086380",
        "colab": {
          "base_uri": "https://localhost:8080/",
          "height": 35
        }
      },
      "source": [
        "cd '/content/drive/My Drive/Colab Notebooks/dw_3miasto/data'"
      ],
      "execution_count": 3,
      "outputs": [
        {
          "output_type": "stream",
          "text": [
            "/content/drive/My Drive/Colab Notebooks/dw_3miasto/data\n"
          ],
          "name": "stdout"
        }
      ]
    },
    {
      "cell_type": "code",
      "metadata": {
        "id": "fC4drXq-aPSs",
        "colab_type": "code",
        "outputId": "fe0d26e7-87cd-47f9-dd1b-6c4d28576a74",
        "colab": {
          "base_uri": "https://localhost:8080/",
          "height": 35
        }
      },
      "source": [
        "ls"
      ],
      "execution_count": 4,
      "outputs": [
        {
          "output_type": "stream",
          "text": [
            "data.json\n"
          ],
          "name": "stdout"
        }
      ]
    },
    {
      "cell_type": "code",
      "metadata": {
        "id": "5-Z4t_D4aQ2t",
        "colab_type": "code",
        "outputId": "44b6d9a7-a66d-4c18-9ce7-7810bf12b204",
        "colab": {
          "base_uri": "https://localhost:8080/",
          "height": 625
        }
      },
      "source": [
        "df = pd.read_json('data.json')\n",
        "df = df.T\n",
        "df.head()"
      ],
      "execution_count": 5,
      "outputs": [
        {
          "output_type": "execute_result",
          "data": {
            "text/html": [
              "<div>\n",
              "<style scoped>\n",
              "    .dataframe tbody tr th:only-of-type {\n",
              "        vertical-align: middle;\n",
              "    }\n",
              "\n",
              "    .dataframe tbody tr th {\n",
              "        vertical-align: top;\n",
              "    }\n",
              "\n",
              "    .dataframe thead th {\n",
              "        text-align: right;\n",
              "    }\n",
              "</style>\n",
              "<table border=\"1\" class=\"dataframe\">\n",
              "  <thead>\n",
              "    <tr style=\"text-align: right;\">\n",
              "      <th></th>\n",
              "      <th>data</th>\n",
              "      <th>cena</th>\n",
              "      <th>cena_za_metr</th>\n",
              "      <th>liczba_zdjec</th>\n",
              "      <th>tytul</th>\n",
              "      <th>adres</th>\n",
              "      <th>wysweitlenia</th>\n",
              "      <th>kategoria</th>\n",
              "      <th>powierzchnia</th>\n",
              "      <th>liczba-pokoi</th>\n",
              "      <th>zabudowa</th>\n",
              "      <th>pietro</th>\n",
              "      <th>liczba-pieter</th>\n",
              "      <th>rynek</th>\n",
              "      <th>rok-budowy</th>\n",
              "      <th>tech-budowy</th>\n",
              "      <th>stan</th>\n",
              "      <th>forma-kuchni</th>\n",
              "      <th>pow-dodatkowa</th>\n",
              "      <th>numer-ksiegi-wieczystej</th>\n",
              "    </tr>\n",
              "  </thead>\n",
              "  <tbody>\n",
              "    <tr>\n",
              "      <th>1.0</th>\n",
              "      <td>Dodane: Środa, 20 Maj, 2020  14:33</td>\n",
              "      <td>587 000 zł 4622 zł/m2</td>\n",
              "      <td>4622</td>\n",
              "      <td>1/7</td>\n",
              "      <td>Mieszkanie Gdynia Pogórze, Suchy Dwór, Sowia</td>\n",
              "      <td>Gdynia / Pogórze</td>\n",
              "      <td>7</td>\n",
              "      <td>Mieszkania / Sprzedaż</td>\n",
              "      <td>127 m2</td>\n",
              "      <td>4 pokoje</td>\n",
              "      <td>Inne</td>\n",
              "      <td>1 piętro</td>\n",
              "      <td>1 piętrowy</td>\n",
              "      <td>Wtórny</td>\n",
              "      <td>2020</td>\n",
              "      <td>NaN</td>\n",
              "      <td>NaN</td>\n",
              "      <td>NaN</td>\n",
              "      <td>NaN</td>\n",
              "      <td>NaN</td>\n",
              "    </tr>\n",
              "    <tr>\n",
              "      <th>2.0</th>\n",
              "      <td>Dodane: Środa, 20 Maj, 2020  11:18</td>\n",
              "      <td>699 000 zł 8738 zł/m2</td>\n",
              "      <td>8738</td>\n",
              "      <td>1/5</td>\n",
              "      <td>Sprzedam mieszkanie w Sopocie</td>\n",
              "      <td>Sopot / Centrum</td>\n",
              "      <td>1036</td>\n",
              "      <td>Mieszkania / Sprzedaż</td>\n",
              "      <td>80 m2</td>\n",
              "      <td>3 pokoje</td>\n",
              "      <td>Kamienica</td>\n",
              "      <td>2 piętro</td>\n",
              "      <td>3 piętrowy</td>\n",
              "      <td>Pierwotny</td>\n",
              "      <td>NaN</td>\n",
              "      <td>Cegła</td>\n",
              "      <td>Do odświeżenia</td>\n",
              "      <td>Oddzielna</td>\n",
              "      <td>Balkon, Piwnica</td>\n",
              "      <td>NaN</td>\n",
              "    </tr>\n",
              "    <tr>\n",
              "      <th>4.0</th>\n",
              "      <td>Dodane: Środa, 20 Maj, 2020  10:33</td>\n",
              "      <td>845 840 zł 10985 zł/m2</td>\n",
              "      <td>10985</td>\n",
              "      <td>1/4</td>\n",
              "      <td>Wolności 18, Gdynia, apartament na I piętrze</td>\n",
              "      <td>Gdynia / Działki Leśne</td>\n",
              "      <td>81</td>\n",
              "      <td>Mieszkania / Sprzedaż</td>\n",
              "      <td>77 m2</td>\n",
              "      <td>4 pokoje</td>\n",
              "      <td>Apartamentowiec</td>\n",
              "      <td>1 piętro</td>\n",
              "      <td>3 piętrowy</td>\n",
              "      <td>Pierwotny</td>\n",
              "      <td>2020</td>\n",
              "      <td>Silikat</td>\n",
              "      <td>NaN</td>\n",
              "      <td>Aneks</td>\n",
              "      <td>Balkon, Winda, Miejsce parkingowe</td>\n",
              "      <td>NaN</td>\n",
              "    </tr>\n",
              "    <tr>\n",
              "      <th>8.0</th>\n",
              "      <td>Dodane: Środa, 20 Maj, 2020  10:33</td>\n",
              "      <td>599 000 zł 11302 zł/m2</td>\n",
              "      <td>11302</td>\n",
              "      <td>1/7</td>\n",
              "      <td>WOLNOŚCI 18 Gdynia, apartament na I PIĘTRZE</td>\n",
              "      <td>Gdynia / Działki Leśne</td>\n",
              "      <td>88</td>\n",
              "      <td>Mieszkania / Sprzedaż</td>\n",
              "      <td>53 m2</td>\n",
              "      <td>3 pokoje</td>\n",
              "      <td>Apartamentowiec</td>\n",
              "      <td>1 piętro</td>\n",
              "      <td>3 piętrowy</td>\n",
              "      <td>Pierwotny</td>\n",
              "      <td>2020</td>\n",
              "      <td>Silikat</td>\n",
              "      <td>NaN</td>\n",
              "      <td>Aneks</td>\n",
              "      <td>Balkon, Winda, Miejsce parkingowe</td>\n",
              "      <td>NaN</td>\n",
              "    </tr>\n",
              "    <tr>\n",
              "      <th>16.0</th>\n",
              "      <td>Dodane: Wtorek, 19 Maj, 2020  22:09</td>\n",
              "      <td>519 000 zł 7014 zł/m2</td>\n",
              "      <td>7014</td>\n",
              "      <td>1/8</td>\n",
              "      <td>Mieszkanie Gdańsk Osowa, Kielnieńska</td>\n",
              "      <td>Gdańsk / Osowa</td>\n",
              "      <td>14</td>\n",
              "      <td>Mieszkania / Sprzedaż</td>\n",
              "      <td>74 m2</td>\n",
              "      <td>3 pokoje</td>\n",
              "      <td>Blok</td>\n",
              "      <td>3 piętro</td>\n",
              "      <td>3 piętrowy</td>\n",
              "      <td>Wtórny</td>\n",
              "      <td>2008</td>\n",
              "      <td>NaN</td>\n",
              "      <td>NaN</td>\n",
              "      <td>NaN</td>\n",
              "      <td>NaN</td>\n",
              "      <td>NaN</td>\n",
              "    </tr>\n",
              "  </tbody>\n",
              "</table>\n",
              "</div>"
            ],
            "text/plain": [
              "                                     data  ... numer-ksiegi-wieczystej\n",
              "1.0    Dodane: Środa, 20 Maj, 2020  14:33  ...                     NaN\n",
              "2.0    Dodane: Środa, 20 Maj, 2020  11:18  ...                     NaN\n",
              "4.0    Dodane: Środa, 20 Maj, 2020  10:33  ...                     NaN\n",
              "8.0    Dodane: Środa, 20 Maj, 2020  10:33  ...                     NaN\n",
              "16.0  Dodane: Wtorek, 19 Maj, 2020  22:09  ...                     NaN\n",
              "\n",
              "[5 rows x 20 columns]"
            ]
          },
          "metadata": {
            "tags": []
          },
          "execution_count": 5
        }
      ]
    },
    {
      "cell_type": "code",
      "metadata": {
        "id": "T_lMKBCPTdsC",
        "colab_type": "code",
        "outputId": "ae517bf8-df4f-41fd-cc38-38eccc89896f",
        "colab": {
          "base_uri": "https://localhost:8080/",
          "height": 35
        }
      },
      "source": [
        "df.shape"
      ],
      "execution_count": 6,
      "outputs": [
        {
          "output_type": "execute_result",
          "data": {
            "text/plain": [
              "(557, 20)"
            ]
          },
          "metadata": {
            "tags": []
          },
          "execution_count": 6
        }
      ]
    },
    {
      "cell_type": "code",
      "metadata": {
        "id": "LliOfmIGhHoK",
        "colab_type": "code",
        "outputId": "9290bc40-dbd6-4852-c07f-6638cf2f75c2",
        "colab": {
          "base_uri": "https://localhost:8080/",
          "height": 508
        }
      },
      "source": [
        "df.info()"
      ],
      "execution_count": 7,
      "outputs": [
        {
          "output_type": "stream",
          "text": [
            "<class 'pandas.core.frame.DataFrame'>\n",
            "Float64Index: 557 entries, 1.0 to 2.3587265155134633e+167\n",
            "Data columns (total 20 columns):\n",
            " #   Column                   Non-Null Count  Dtype \n",
            "---  ------                   --------------  ----- \n",
            " 0   data                     557 non-null    object\n",
            " 1   cena                     557 non-null    object\n",
            " 2   cena_za_metr             557 non-null    object\n",
            " 3   liczba_zdjec             553 non-null    object\n",
            " 4   tytul                    557 non-null    object\n",
            " 5   adres                    557 non-null    object\n",
            " 6   wysweitlenia             557 non-null    object\n",
            " 7   kategoria                557 non-null    object\n",
            " 8   powierzchnia             557 non-null    object\n",
            " 9   liczba-pokoi             556 non-null    object\n",
            " 10  zabudowa                 557 non-null    object\n",
            " 11  pietro                   552 non-null    object\n",
            " 12  liczba-pieter            548 non-null    object\n",
            " 13  rynek                    549 non-null    object\n",
            " 14  rok-budowy               438 non-null    object\n",
            " 15  tech-budowy              397 non-null    object\n",
            " 16  stan                     77 non-null     object\n",
            " 17  forma-kuchni             116 non-null    object\n",
            " 18  pow-dodatkowa            270 non-null    object\n",
            " 19  numer-ksiegi-wieczystej  1 non-null      object\n",
            "dtypes: object(20)\n",
            "memory usage: 111.4+ KB\n"
          ],
          "name": "stdout"
        }
      ]
    },
    {
      "cell_type": "code",
      "metadata": {
        "id": "V4Iv4l8WrHt4",
        "colab_type": "code",
        "outputId": "29ddc522-de76-4476-bccf-3bd11ff5c94b",
        "colab": {
          "base_uri": "https://localhost:8080/",
          "height": 1000
        }
      },
      "source": [
        "df['data'].unique()"
      ],
      "execution_count": 8,
      "outputs": [
        {
          "output_type": "execute_result",
          "data": {
            "text/plain": [
              "array(['Dodane: Środa, 20 Maj, 2020 \\xa014:33',\n",
              "       'Dodane: Środa, 20 Maj, 2020 \\xa011:18',\n",
              "       'Dodane: Środa, 20 Maj, 2020 \\xa010:33',\n",
              "       'Dodane: Wtorek, 19 Maj, 2020 \\xa022:09',\n",
              "       'Dodane: Wtorek, 19 Maj, 2020 \\xa021:22',\n",
              "       'Dodane: Wtorek, 19 Maj, 2020 \\xa020:52',\n",
              "       'Dodane: Wtorek, 19 Maj, 2020 \\xa020:51',\n",
              "       'Dodane: Wtorek, 19 Maj, 2020 \\xa020:50',\n",
              "       'Dodane: Wtorek, 19 Maj, 2020 \\xa020:40',\n",
              "       'Dodane: Wtorek, 19 Maj, 2020 \\xa018:07',\n",
              "       'Dodane: Wtorek, 19 Maj, 2020 \\xa016:17',\n",
              "       'Dodane: Wtorek, 19 Maj, 2020 \\xa016:07',\n",
              "       'Dodane: Wtorek, 19 Maj, 2020 \\xa014:41',\n",
              "       'Dodane: Wtorek, 19 Maj, 2020 \\xa012:58',\n",
              "       'Dodane: Wtorek, 19 Maj, 2020 \\xa012:57',\n",
              "       'Dodane: Wtorek, 19 Maj, 2020 \\xa012:29',\n",
              "       'Dodane: Wtorek, 19 Maj, 2020 \\xa009:39',\n",
              "       'Dodane: Wtorek, 19 Maj, 2020 \\xa009:37',\n",
              "       'Dodane: Wtorek, 19 Maj, 2020 \\xa008:50',\n",
              "       'Dodane: Wtorek, 19 Maj, 2020 \\xa007:45',\n",
              "       'Dodane: Wtorek, 19 Maj, 2020 \\xa002:27',\n",
              "       'Dodane: Poniedziałek, 18 Maj, 2020 \\xa020:07',\n",
              "       'Dodane: Poniedziałek, 18 Maj, 2020 \\xa018:22',\n",
              "       'Dodane: Poniedziałek, 18 Maj, 2020 \\xa016:07',\n",
              "       'Dodane: Poniedziałek, 18 Maj, 2020 \\xa016:06',\n",
              "       'Dodane: Poniedziałek, 18 Maj, 2020 \\xa015:19',\n",
              "       'Dodane: Poniedziałek, 18 Maj, 2020 \\xa012:18',\n",
              "       'Dodane: Poniedziałek, 18 Maj, 2020 \\xa011:27',\n",
              "       'Dodane: Niedziela, 17 Maj, 2020 \\xa022:14',\n",
              "       'Dodane: Niedziela, 17 Maj, 2020 \\xa013:03',\n",
              "       'Dodane: Niedziela, 17 Maj, 2020 \\xa012:09',\n",
              "       'Dodane: Niedziela, 17 Maj, 2020 \\xa011:01',\n",
              "       'Dodane: Niedziela, 17 Maj, 2020 \\xa003:39',\n",
              "       'Dodane: Sobota, 16 Maj, 2020 \\xa002:26',\n",
              "       'Dodane: Piątek, 15 Maj, 2020 \\xa020:07',\n",
              "       'Dodane: Piątek, 15 Maj, 2020 \\xa018:08',\n",
              "       'Dodane: Piątek, 15 Maj, 2020 \\xa016:10',\n",
              "       'Dodane: Piątek, 15 Maj, 2020 \\xa016:07',\n",
              "       'Dodane: Czwartek, 14 Maj, 2020 \\xa022:37',\n",
              "       'Dodane: Czwartek, 14 Maj, 2020 \\xa020:07',\n",
              "       'Dodane: Czwartek, 14 Maj, 2020 \\xa017:06',\n",
              "       'Dodane: Czwartek, 14 Maj, 2020 \\xa016:44',\n",
              "       'Dodane: Czwartek, 14 Maj, 2020 \\xa014:07',\n",
              "       'Dodane: Czwartek, 14 Maj, 2020 \\xa012:07',\n",
              "       'Dodane: Czwartek, 14 Maj, 2020 \\xa012:06',\n",
              "       'Dodane: Czwartek, 14 Maj, 2020 \\xa009:37',\n",
              "       'Dodane: Czwartek, 14 Maj, 2020 \\xa009:36',\n",
              "       'Dodane: Czwartek, 14 Maj, 2020 \\xa009:34',\n",
              "       'Dodane: Czwartek, 14 Maj, 2020 \\xa009:33',\n",
              "       'Dodane: Środa, 13 Maj, 2020 \\xa017:16',\n",
              "       'Dodane: Środa, 13 Maj, 2020 \\xa016:10',\n",
              "       'Dodane: Środa, 13 Maj, 2020 \\xa016:07',\n",
              "       'Dodane: Środa, 13 Maj, 2020 \\xa012:39',\n",
              "       'Dodane: Środa, 13 Maj, 2020 \\xa006:27',\n",
              "       'Dodane: Środa, 13 Maj, 2020 \\xa000:32',\n",
              "       'Dodane: Wtorek, 12 Maj, 2020 \\xa018:07',\n",
              "       'Dodane: Wtorek, 12 Maj, 2020 \\xa016:06',\n",
              "       'Dodane: Wtorek, 12 Maj, 2020 \\xa014:09',\n",
              "       'Dodane: Wtorek, 12 Maj, 2020 \\xa014:07',\n",
              "       'Dodane: Poniedziałek, 11 Maj, 2020 \\xa018:07',\n",
              "       'Dodane: Poniedziałek, 11 Maj, 2020 \\xa016:52',\n",
              "       'Dodane: Poniedziałek, 11 Maj, 2020 \\xa014:54',\n",
              "       'Dodane: Poniedziałek, 11 Maj, 2020 \\xa012:49',\n",
              "       'Dodane: Niedziela, 10 Maj, 2020 \\xa018:18',\n",
              "       'Dodane: Sobota, 09 Maj, 2020 \\xa023:40',\n",
              "       'Dodane: Piątek, 08 Maj, 2020 \\xa018:07',\n",
              "       'Dodane: Piątek, 08 Maj, 2020 \\xa015:10',\n",
              "       'Dodane: Piątek, 08 Maj, 2020 \\xa012:56',\n",
              "       'Dodane: Piątek, 08 Maj, 2020 \\xa012:10',\n",
              "       'Dodane: Piątek, 08 Maj, 2020 \\xa006:47',\n",
              "       'Dodane: Piątek, 08 Maj, 2020 \\xa006:27',\n",
              "       'Dodane: Czwartek, 07 Maj, 2020 \\xa020:07',\n",
              "       'Dodane: Czwartek, 07 Maj, 2020 \\xa016:07',\n",
              "       'Dodane: Czwartek, 07 Maj, 2020 \\xa014:06',\n",
              "       'Dodane: Środa, 06 Maj, 2020 \\xa020:07',\n",
              "       'Dodane: Środa, 06 Maj, 2020 \\xa018:07',\n",
              "       'Dodane: Środa, 06 Maj, 2020 \\xa016:08',\n",
              "       'Dodane: Środa, 06 Maj, 2020 \\xa014:07',\n",
              "       'Dodane: Środa, 06 Maj, 2020 \\xa010:40',\n",
              "       'Dodane: Środa, 06 Maj, 2020 \\xa000:03',\n",
              "       'Dodane: Wtorek, 05 Maj, 2020 \\xa022:21',\n",
              "       'Dodane: Wtorek, 05 Maj, 2020 \\xa018:07',\n",
              "       'Dodane: Wtorek, 05 Maj, 2020 \\xa016:07',\n",
              "       'Dodane: Wtorek, 05 Maj, 2020 \\xa014:10',\n",
              "       'Dodane: Wtorek, 05 Maj, 2020 \\xa014:08',\n",
              "       'Dodane: Wtorek, 05 Maj, 2020 \\xa012:41',\n",
              "       'Dodane: Poniedziałek, 04 Maj, 2020 \\xa016:10',\n",
              "       'Dodane: Poniedziałek, 04 Maj, 2020 \\xa016:07',\n",
              "       'Dodane: Poniedziałek, 04 Maj, 2020 \\xa014:07',\n",
              "       'Dodane: Niedziela, 03 Maj, 2020 \\xa021:06',\n",
              "       'Dodane: Niedziela, 03 Maj, 2020 \\xa020:45',\n",
              "       'Dodane: Niedziela, 03 Maj, 2020 \\xa002:28',\n",
              "       'Dodane: Sobota, 02 Maj, 2020 \\xa007:11',\n",
              "       'Dodane: Sobota, 02 Maj, 2020 \\xa005:54',\n",
              "       'Dodane: Piątek, 01 Maj, 2020 \\xa010:12',\n",
              "       'Dodane: Piątek, 01 Maj, 2020 \\xa010:10',\n",
              "       'Dodane: Czwartek, 30 Kwiecień, 2020 \\xa018:07',\n",
              "       'Dodane: Czwartek, 30 Kwiecień, 2020 \\xa016:07',\n",
              "       'Dodane: Czwartek, 30 Kwiecień, 2020 \\xa014:07',\n",
              "       'Dodane: Środa, 29 Kwiecień, 2020 \\xa018:07',\n",
              "       'Dodane: Środa, 29 Kwiecień, 2020 \\xa016:07',\n",
              "       'Dodane: Środa, 29 Kwiecień, 2020 \\xa000:07',\n",
              "       'Dodane: Wtorek, 28 Kwiecień, 2020 \\xa011:33',\n",
              "       'Dodane: Poniedziałek, 27 Kwiecień, 2020 \\xa020:08',\n",
              "       'Dodane: Poniedziałek, 27 Kwiecień, 2020 \\xa016:07',\n",
              "       'Dodane: Poniedziałek, 27 Kwiecień, 2020 \\xa014:08',\n",
              "       'Dodane: Poniedziałek, 27 Kwiecień, 2020 \\xa013:59',\n",
              "       'Dodane: Poniedziałek, 27 Kwiecień, 2020 \\xa003:08',\n",
              "       'Dodane: Niedziela, 26 Kwiecień, 2020 \\xa010:27',\n",
              "       'Dodane: Piątek, 24 Kwiecień, 2020 \\xa018:54',\n",
              "       'Dodane: Piątek, 24 Kwiecień, 2020 \\xa018:07',\n",
              "       'Dodane: Piątek, 24 Kwiecień, 2020 \\xa014:07',\n",
              "       'Dodane: Piątek, 24 Kwiecień, 2020 \\xa002:28',\n",
              "       'Dodane: Czwartek, 23 Kwiecień, 2020 \\xa016:10',\n",
              "       'Dodane: Czwartek, 23 Kwiecień, 2020 \\xa014:07',\n",
              "       'Dodane: Czwartek, 23 Kwiecień, 2020 \\xa000:07',\n",
              "       'Dodane: Środa, 22 Kwiecień, 2020 \\xa018:08',\n",
              "       'Dodane: Środa, 22 Kwiecień, 2020 \\xa016:08',\n",
              "       'Dodane: Środa, 22 Kwiecień, 2020 \\xa014:07',\n",
              "       'Dodane: Wtorek, 21 Kwiecień, 2020 \\xa018:08',\n",
              "       'Dodane: Wtorek, 21 Kwiecień, 2020 \\xa016:08',\n",
              "       'Dodane: Wtorek, 21 Kwiecień, 2020 \\xa012:53',\n",
              "       'Dodane: Poniedziałek, 20 Kwiecień, 2020 \\xa022:07',\n",
              "       'Dodane: Poniedziałek, 20 Kwiecień, 2020 \\xa018:08',\n",
              "       'Dodane: Poniedziałek, 20 Kwiecień, 2020 \\xa017:57',\n",
              "       'Dodane: Poniedziałek, 20 Kwiecień, 2020 \\xa012:10',\n",
              "       'Dodane: Niedziela, 19 Kwiecień, 2020 \\xa006:27',\n",
              "       'Dodane: Piątek, 17 Kwiecień, 2020 \\xa018:07',\n",
              "       'Dodane: Piątek, 17 Kwiecień, 2020 \\xa016:49',\n",
              "       'Dodane: Piątek, 17 Kwiecień, 2020 \\xa014:07',\n",
              "       'Dodane: Czwartek, 16 Kwiecień, 2020 \\xa018:07',\n",
              "       'Dodane: Czwartek, 16 Kwiecień, 2020 \\xa016:07',\n",
              "       'Dodane: Czwartek, 16 Kwiecień, 2020 \\xa014:19',\n",
              "       'Dodane: Czwartek, 16 Kwiecień, 2020 \\xa012:31',\n",
              "       'Dodane: Czwartek, 16 Kwiecień, 2020 \\xa012:29',\n",
              "       'Dodane: Czwartek, 16 Kwiecień, 2020 \\xa012:17',\n",
              "       'Dodane: Środa, 15 Kwiecień, 2020 \\xa022:53',\n",
              "       'Dodane: Środa, 15 Kwiecień, 2020 \\xa020:07',\n",
              "       'Dodane: Środa, 15 Kwiecień, 2020 \\xa019:48',\n",
              "       'Dodane: Środa, 15 Kwiecień, 2020 \\xa019:40',\n",
              "       'Dodane: Środa, 15 Kwiecień, 2020 \\xa019:34',\n",
              "       'Dodane: Środa, 15 Kwiecień, 2020 \\xa019:29',\n",
              "       'Dodane: Środa, 15 Kwiecień, 2020 \\xa019:25',\n",
              "       'Dodane: Środa, 15 Kwiecień, 2020 \\xa019:20',\n",
              "       'Dodane: Środa, 15 Kwiecień, 2020 \\xa019:16',\n",
              "       'Dodane: Środa, 15 Kwiecień, 2020 \\xa019:13',\n",
              "       'Dodane: Środa, 15 Kwiecień, 2020 \\xa019:10',\n",
              "       'Dodane: Środa, 15 Kwiecień, 2020 \\xa019:06',\n",
              "       'Dodane: Środa, 15 Kwiecień, 2020 \\xa018:08',\n",
              "       'Dodane: Środa, 15 Kwiecień, 2020 \\xa016:08',\n",
              "       'Dodane: Środa, 15 Kwiecień, 2020 \\xa014:08',\n",
              "       'Dodane: Środa, 15 Kwiecień, 2020 \\xa014:07',\n",
              "       'Dodane: Środa, 15 Kwiecień, 2020 \\xa013:50',\n",
              "       'Dodane: Wtorek, 14 Kwiecień, 2020 \\xa022:07',\n",
              "       'Dodane: Wtorek, 14 Kwiecień, 2020 \\xa014:07',\n",
              "       'Dodane: Wtorek, 14 Kwiecień, 2020 \\xa009:45',\n",
              "       'Dodane: Niedziela, 12 Kwiecień, 2020 \\xa003:06',\n",
              "       'Dodane: Sobota, 11 Kwiecień, 2020 \\xa022:07',\n",
              "       'Dodane: Sobota, 11 Kwiecień, 2020 \\xa018:36',\n",
              "       'Dodane: Sobota, 11 Kwiecień, 2020 \\xa018:35',\n",
              "       'Dodane: Czwartek, 09 Kwiecień, 2020 \\xa018:07',\n",
              "       'Dodane: Czwartek, 09 Kwiecień, 2020 \\xa016:07',\n",
              "       'Dodane: Czwartek, 09 Kwiecień, 2020 \\xa011:11',\n",
              "       'Dodane: Środa, 08 Kwiecień, 2020 \\xa018:07',\n",
              "       'Dodane: Środa, 08 Kwiecień, 2020 \\xa014:07',\n",
              "       'Dodane: Wtorek, 07 Kwiecień, 2020 \\xa018:09',\n",
              "       'Dodane: Wtorek, 07 Kwiecień, 2020 \\xa016:07',\n",
              "       'Dodane: Wtorek, 07 Kwiecień, 2020 \\xa013:44',\n",
              "       'Dodane: Poniedziałek, 06 Kwiecień, 2020 \\xa018:11',\n",
              "       'Dodane: Poniedziałek, 06 Kwiecień, 2020 \\xa014:08',\n",
              "       'Dodane: Poniedziałek, 06 Kwiecień, 2020 \\xa012:57',\n",
              "       'Dodane: Poniedziałek, 06 Kwiecień, 2020 \\xa007:53',\n",
              "       'Dodane: Sobota, 04 Kwiecień, 2020 \\xa012:27',\n",
              "       'Dodane: Piątek, 03 Kwiecień, 2020 \\xa018:07',\n",
              "       'Dodane: Piątek, 03 Kwiecień, 2020 \\xa016:08',\n",
              "       'Dodane: Piątek, 03 Kwiecień, 2020 \\xa014:10',\n",
              "       'Dodane: Czwartek, 02 Kwiecień, 2020 \\xa018:08',\n",
              "       'Dodane: Czwartek, 02 Kwiecień, 2020 \\xa017:09',\n",
              "       'Dodane: Środa, 01 Kwiecień, 2020 \\xa016:08',\n",
              "       'Dodane: Środa, 01 Kwiecień, 2020 \\xa013:47',\n",
              "       'Dodane: Środa, 01 Kwiecień, 2020 \\xa012:20',\n",
              "       'Dodane: Wtorek, 31 Marzec, 2020 \\xa020:08',\n",
              "       'Dodane: Wtorek, 31 Marzec, 2020 \\xa016:08',\n",
              "       'Dodane: Wtorek, 31 Marzec, 2020 \\xa014:50',\n",
              "       'Dodane: Wtorek, 31 Marzec, 2020 \\xa013:30',\n",
              "       'Dodane: Poniedziałek, 30 Marzec, 2020 \\xa021:43',\n",
              "       'Dodane: Poniedziałek, 30 Marzec, 2020 \\xa021:42',\n",
              "       'Dodane: Poniedziałek, 30 Marzec, 2020 \\xa018:08',\n",
              "       'Dodane: Poniedziałek, 30 Marzec, 2020 \\xa016:08',\n",
              "       'Dodane: Poniedziałek, 30 Marzec, 2020 \\xa014:43',\n",
              "       'Dodane: Poniedziałek, 30 Marzec, 2020 \\xa014:01',\n",
              "       'Dodane: Poniedziałek, 30 Marzec, 2020 \\xa013:52',\n",
              "       'Dodane: Poniedziałek, 30 Marzec, 2020 \\xa011:53',\n",
              "       'Dodane: Poniedziałek, 30 Marzec, 2020 \\xa011:52',\n",
              "       'Dodane: Niedziela, 29 Marzec, 2020 \\xa022:08',\n",
              "       'Dodane: Niedziela, 29 Marzec, 2020 \\xa013:22',\n",
              "       'Dodane: Niedziela, 29 Marzec, 2020 \\xa013:21',\n",
              "       'Dodane: Niedziela, 29 Marzec, 2020 \\xa013:20',\n",
              "       'Dodane: Piątek, 27 Marzec, 2020 \\xa014:10',\n",
              "       'Dodane: Piątek, 27 Marzec, 2020 \\xa012:51',\n",
              "       'Dodane: Czwartek, 26 Marzec, 2020 \\xa013:27',\n",
              "       'Dodane: Czwartek, 26 Marzec, 2020 \\xa013:08',\n",
              "       'Dodane: Czwartek, 26 Marzec, 2020 \\xa012:54',\n",
              "       'Dodane: Środa, 25 Marzec, 2020 \\xa016:07',\n",
              "       'Dodane: Wtorek, 24 Marzec, 2020 \\xa020:07',\n",
              "       'Dodane: Wtorek, 24 Marzec, 2020 \\xa012:08',\n",
              "       'Dodane: Wtorek, 24 Marzec, 2020 \\xa010:27',\n",
              "       'Dodane: Poniedziałek, 23 Marzec, 2020 \\xa020:21',\n",
              "       'Dodane: Poniedziałek, 23 Marzec, 2020 \\xa018:07',\n",
              "       'Dodane: Sobota, 21 Marzec, 2020 \\xa011:32',\n",
              "       'Dodane: Piątek, 20 Marzec, 2020 \\xa016:07',\n",
              "       'Dodane: Piątek, 20 Marzec, 2020 \\xa012:07',\n",
              "       'Dodane: Czwartek, 19 Marzec, 2020 \\xa016:07',\n",
              "       'Dodane: Czwartek, 19 Marzec, 2020 \\xa014:09',\n",
              "       'Dodane: Czwartek, 19 Marzec, 2020 \\xa012:09',\n",
              "       'Dodane: Środa, 18 Marzec, 2020 \\xa014:57',\n",
              "       'Dodane: Wtorek, 17 Marzec, 2020 \\xa014:34',\n",
              "       'Dodane: Wtorek, 17 Marzec, 2020 \\xa014:33',\n",
              "       'Dodane: Poniedziałek, 16 Marzec, 2020 \\xa016:09',\n",
              "       'Dodane: Poniedziałek, 16 Marzec, 2020 \\xa016:05',\n",
              "       'Dodane: Poniedziałek, 16 Marzec, 2020 \\xa009:33',\n",
              "       'Dodane: Poniedziałek, 16 Marzec, 2020 \\xa000:15',\n",
              "       'Dodane: Niedziela, 15 Marzec, 2020 \\xa013:31',\n",
              "       'Dodane: Sobota, 14 Marzec, 2020 \\xa009:35',\n",
              "       'Dodane: Piątek, 13 Marzec, 2020 \\xa022:09',\n",
              "       'Dodane: Piątek, 13 Marzec, 2020 \\xa019:42',\n",
              "       'Dodane: Czwartek, 12 Marzec, 2020 \\xa015:17',\n",
              "       'Dodane: Środa, 11 Marzec, 2020 \\xa022:38',\n",
              "       'Dodane: Środa, 11 Marzec, 2020 \\xa018:07',\n",
              "       'Dodane: Środa, 11 Marzec, 2020 \\xa016:07',\n",
              "       'Dodane: Środa, 11 Marzec, 2020 \\xa011:22',\n",
              "       'Dodane: Wtorek, 10 Marzec, 2020 \\xa019:52',\n",
              "       'Dodane: Wtorek, 10 Marzec, 2020 \\xa018:07',\n",
              "       'Dodane: Wtorek, 10 Marzec, 2020 \\xa016:07',\n",
              "       'Dodane: Wtorek, 10 Marzec, 2020 \\xa014:24',\n",
              "       'Dodane: Wtorek, 10 Marzec, 2020 \\xa012:37',\n",
              "       'Dodane: Poniedziałek, 09 Marzec, 2020 \\xa022:35',\n",
              "       'Dodane: Poniedziałek, 09 Marzec, 2020 \\xa020:34',\n",
              "       'Dodane: Poniedziałek, 09 Marzec, 2020 \\xa018:47',\n",
              "       'Dodane: Poniedziałek, 09 Marzec, 2020 \\xa015:58',\n",
              "       'Dodane: Poniedziałek, 09 Marzec, 2020 \\xa014:50',\n",
              "       'Dodane: Poniedziałek, 09 Marzec, 2020 \\xa014:05',\n",
              "       'Dodane: Poniedziałek, 09 Marzec, 2020 \\xa012:05',\n",
              "       'Dodane: Poniedziałek, 09 Marzec, 2020 \\xa006:28',\n",
              "       'Dodane: Sobota, 07 Marzec, 2020 \\xa021:03',\n",
              "       'Dodane: Piątek, 06 Marzec, 2020 \\xa020:39',\n",
              "       'Dodane: Piątek, 06 Marzec, 2020 \\xa016:20',\n",
              "       'Dodane: Wtorek, 03 Marzec, 2020 \\xa020:14',\n",
              "       'Dodane: Wtorek, 03 Marzec, 2020 \\xa020:11',\n",
              "       'Dodane: Wtorek, 03 Marzec, 2020 \\xa020:10',\n",
              "       'Dodane: Wtorek, 03 Marzec, 2020 \\xa020:02',\n",
              "       'Dodane: Wtorek, 03 Marzec, 2020 \\xa019:36',\n",
              "       'Dodane: Wtorek, 03 Marzec, 2020 \\xa019:35',\n",
              "       'Dodane: Wtorek, 03 Marzec, 2020 \\xa019:27',\n",
              "       'Dodane: Poniedziałek, 02 Marzec, 2020 \\xa004:27',\n",
              "       'Dodane: Piątek, 28 Luty, 2020 \\xa013:12',\n",
              "       'Dodane: Piątek, 28 Luty, 2020 \\xa013:11',\n",
              "       'Dodane: Wtorek, 25 Luty, 2020 \\xa010:18',\n",
              "       'Dodane: Poniedziałek, 24 Luty, 2020 \\xa016:49',\n",
              "       'Dodane: Poniedziałek, 24 Luty, 2020 \\xa016:09',\n",
              "       'Dodane: Czwartek, 20 Luty, 2020 \\xa018:21',\n",
              "       ' Ogłoszenie archiwalne! Wygasło:  Środa, 20 Maj, 2020 \\xa015:48',\n",
              "       ' Ogłoszenie archiwalne! Wygasło:  Wtorek, 19 Maj, 2020 \\xa013:39',\n",
              "       ' Ogłoszenie archiwalne! Wygasło:  Czwartek, 14 Maj, 2020 \\xa021:10',\n",
              "       'Dodane: Piątek, 14 Luty, 2020 \\xa014:17',\n",
              "       ' Ogłoszenie archiwalne! Wygasło:  Środa, 13 Maj, 2020 \\xa013:20',\n",
              "       ' Ogłoszenie archiwalne! Wygasło:  Poniedziałek, 11 Maj, 2020 \\xa021:20',\n",
              "       ' Ogłoszenie archiwalne! Wygasło:  Poniedziałek, 11 Maj, 2020 \\xa021:19',\n",
              "       ' Ogłoszenie archiwalne! Wygasło:  Niedziela, 10 Maj, 2020 \\xa018:47',\n",
              "       ' Ogłoszenie archiwalne! Wygasło:  Niedziela, 10 Maj, 2020 \\xa013:32',\n",
              "       ' Ogłoszenie archiwalne! Wygasło:  Czwartek, 07 Maj, 2020 \\xa015:21',\n",
              "       'Dodane: Piątek, 07 Luty, 2020 \\xa013:43',\n",
              "       'Dodane: Piątek, 07 Luty, 2020 \\xa013:16',\n",
              "       ' Ogłoszenie archiwalne! Wygasło:  Środa, 06 Maj, 2020 \\xa016:00',\n",
              "       ' Ogłoszenie archiwalne! Wygasło:  Środa, 06 Maj, 2020 \\xa010:35',\n",
              "       'Dodane: Czwartek, 06 Luty, 2020 \\xa008:40',\n",
              "       ' Ogłoszenie archiwalne! Wygasło:  Sobota, 02 Maj, 2020 \\xa020:08',\n",
              "       'Dodane: Niedziela, 02 Luty, 2020 \\xa015:23',\n",
              "       ' Ogłoszenie archiwalne! Wygasło:  Wtorek, 28 Kwiecień, 2020 \\xa012:33',\n",
              "       'Dodane: Poniedziałek, 27 Styczeń, 2020 \\xa015:44',\n",
              "       'Dodane: Czwartek, 23 Styczeń, 2020 \\xa017:25',\n",
              "       'Dodane: Czwartek, 23 Styczeń, 2020 \\xa015:24',\n",
              "       'Dodane: Wtorek, 21 Styczeń, 2020 \\xa020:36'], dtype=object)"
            ]
          },
          "metadata": {
            "tags": []
          },
          "execution_count": 8
        }
      ]
    },
    {
      "cell_type": "code",
      "metadata": {
        "id": "hs7dfEsBWnnT",
        "colab_type": "code",
        "outputId": "ec676641-3458-45f0-d460-e62da087b12f",
        "colab": {
          "base_uri": "https://localhost:8080/",
          "height": 288
        }
      },
      "source": [
        "df['godzina'] = df['data'].map(lambda x: ' '.join(x.split(' ')[5:])) #tworze nowa kolumne z godzina\n",
        "df['data'] = df['data'].map(lambda x: ' '.join(x.split(' ')[2:-1])) #usuwam zbedne wyrazy z kolumny data\n",
        "df['data'] = df['data'].str.replace(',', '') #usuwam z daty ,\n",
        "df['cena'] = df['cena'].map(lambda x: ''.join(x.split(' ')[:-3])) #usuwam z kolumny cena 3 ostatnie slowa czyli zl/m2, cena za metr i zl oraz usuwam spacje\n",
        "df['cena_za_metr'] = df['cena_za_metr'].astype(float)\n",
        "df['liczba_zdjec'] = df['liczba_zdjec'].str.replace('1/', '')\n",
        "df['dzielnica'] = df['adres'].map(lambda x: '/'.join(x.split('/')[1:])).str.lower()\n",
        "df['adres'] = df['adres'].str.lower().str.split('/').str[0]\n",
        "df['powierzchnia'] = df['powierzchnia'].str.replace('m2', '')\n",
        "\n",
        "\n",
        "\n",
        "df.head(2)"
      ],
      "execution_count": 9,
      "outputs": [
        {
          "output_type": "execute_result",
          "data": {
            "text/html": [
              "<div>\n",
              "<style scoped>\n",
              "    .dataframe tbody tr th:only-of-type {\n",
              "        vertical-align: middle;\n",
              "    }\n",
              "\n",
              "    .dataframe tbody tr th {\n",
              "        vertical-align: top;\n",
              "    }\n",
              "\n",
              "    .dataframe thead th {\n",
              "        text-align: right;\n",
              "    }\n",
              "</style>\n",
              "<table border=\"1\" class=\"dataframe\">\n",
              "  <thead>\n",
              "    <tr style=\"text-align: right;\">\n",
              "      <th></th>\n",
              "      <th>data</th>\n",
              "      <th>cena</th>\n",
              "      <th>cena_za_metr</th>\n",
              "      <th>liczba_zdjec</th>\n",
              "      <th>tytul</th>\n",
              "      <th>adres</th>\n",
              "      <th>wysweitlenia</th>\n",
              "      <th>kategoria</th>\n",
              "      <th>powierzchnia</th>\n",
              "      <th>liczba-pokoi</th>\n",
              "      <th>zabudowa</th>\n",
              "      <th>pietro</th>\n",
              "      <th>liczba-pieter</th>\n",
              "      <th>rynek</th>\n",
              "      <th>rok-budowy</th>\n",
              "      <th>tech-budowy</th>\n",
              "      <th>stan</th>\n",
              "      <th>forma-kuchni</th>\n",
              "      <th>pow-dodatkowa</th>\n",
              "      <th>numer-ksiegi-wieczystej</th>\n",
              "      <th>godzina</th>\n",
              "      <th>dzielnica</th>\n",
              "    </tr>\n",
              "  </thead>\n",
              "  <tbody>\n",
              "    <tr>\n",
              "      <th>1.0</th>\n",
              "      <td>20 Maj 2020</td>\n",
              "      <td>587000</td>\n",
              "      <td>4622.0</td>\n",
              "      <td>7</td>\n",
              "      <td>Mieszkanie Gdynia Pogórze, Suchy Dwór, Sowia</td>\n",
              "      <td>gdynia</td>\n",
              "      <td>7</td>\n",
              "      <td>Mieszkania / Sprzedaż</td>\n",
              "      <td>127</td>\n",
              "      <td>4 pokoje</td>\n",
              "      <td>Inne</td>\n",
              "      <td>1 piętro</td>\n",
              "      <td>1 piętrowy</td>\n",
              "      <td>Wtórny</td>\n",
              "      <td>2020</td>\n",
              "      <td>NaN</td>\n",
              "      <td>NaN</td>\n",
              "      <td>NaN</td>\n",
              "      <td>NaN</td>\n",
              "      <td>NaN</td>\n",
              "      <td>14:33</td>\n",
              "      <td>pogórze</td>\n",
              "    </tr>\n",
              "    <tr>\n",
              "      <th>2.0</th>\n",
              "      <td>20 Maj 2020</td>\n",
              "      <td>699000</td>\n",
              "      <td>8738.0</td>\n",
              "      <td>5</td>\n",
              "      <td>Sprzedam mieszkanie w Sopocie</td>\n",
              "      <td>sopot</td>\n",
              "      <td>1036</td>\n",
              "      <td>Mieszkania / Sprzedaż</td>\n",
              "      <td>80</td>\n",
              "      <td>3 pokoje</td>\n",
              "      <td>Kamienica</td>\n",
              "      <td>2 piętro</td>\n",
              "      <td>3 piętrowy</td>\n",
              "      <td>Pierwotny</td>\n",
              "      <td>NaN</td>\n",
              "      <td>Cegła</td>\n",
              "      <td>Do odświeżenia</td>\n",
              "      <td>Oddzielna</td>\n",
              "      <td>Balkon, Piwnica</td>\n",
              "      <td>NaN</td>\n",
              "      <td>11:18</td>\n",
              "      <td>centrum</td>\n",
              "    </tr>\n",
              "  </tbody>\n",
              "</table>\n",
              "</div>"
            ],
            "text/plain": [
              "            data    cena  ...  godzina dzielnica\n",
              "1.0  20 Maj 2020  587000  ...    14:33   pogórze\n",
              "2.0  20 Maj 2020  699000  ...    11:18   centrum\n",
              "\n",
              "[2 rows x 22 columns]"
            ]
          },
          "metadata": {
            "tags": []
          },
          "execution_count": 9
        }
      ]
    },
    {
      "cell_type": "code",
      "metadata": {
        "id": "O5HtEgCUrPxL",
        "colab_type": "code",
        "outputId": "dc0cfb79-a7f5-4496-cba5-20196357b94b",
        "colab": {
          "base_uri": "https://localhost:8080/",
          "height": 635
        }
      },
      "source": [
        "df['data'].unique()"
      ],
      "execution_count": 10,
      "outputs": [
        {
          "output_type": "execute_result",
          "data": {
            "text/plain": [
              "array(['20 Maj 2020', '19 Maj 2020', '18 Maj 2020', '17 Maj 2020',\n",
              "       '16 Maj 2020', '15 Maj 2020', '14 Maj 2020', '13 Maj 2020',\n",
              "       '12 Maj 2020', '11 Maj 2020', '10 Maj 2020', '09 Maj 2020',\n",
              "       '08 Maj 2020', '07 Maj 2020', '06 Maj 2020', '05 Maj 2020',\n",
              "       '04 Maj 2020', '03 Maj 2020', '02 Maj 2020', '01 Maj 2020',\n",
              "       '30 Kwiecień 2020', '29 Kwiecień 2020', '28 Kwiecień 2020',\n",
              "       '27 Kwiecień 2020', '26 Kwiecień 2020', '24 Kwiecień 2020',\n",
              "       '23 Kwiecień 2020', '22 Kwiecień 2020', '21 Kwiecień 2020',\n",
              "       '20 Kwiecień 2020', '19 Kwiecień 2020', '17 Kwiecień 2020',\n",
              "       '16 Kwiecień 2020', '15 Kwiecień 2020', '14 Kwiecień 2020',\n",
              "       '12 Kwiecień 2020', '11 Kwiecień 2020', '09 Kwiecień 2020',\n",
              "       '08 Kwiecień 2020', '07 Kwiecień 2020', '06 Kwiecień 2020',\n",
              "       '04 Kwiecień 2020', '03 Kwiecień 2020', '02 Kwiecień 2020',\n",
              "       '01 Kwiecień 2020', '31 Marzec 2020', '30 Marzec 2020',\n",
              "       '29 Marzec 2020', '27 Marzec 2020', '26 Marzec 2020',\n",
              "       '25 Marzec 2020', '24 Marzec 2020', '23 Marzec 2020',\n",
              "       '21 Marzec 2020', '20 Marzec 2020', '19 Marzec 2020',\n",
              "       '18 Marzec 2020', '17 Marzec 2020', '16 Marzec 2020',\n",
              "       '15 Marzec 2020', '14 Marzec 2020', '13 Marzec 2020',\n",
              "       '12 Marzec 2020', '11 Marzec 2020', '10 Marzec 2020',\n",
              "       '09 Marzec 2020', '07 Marzec 2020', '06 Marzec 2020',\n",
              "       '03 Marzec 2020', '02 Marzec 2020', '28 Luty 2020', '25 Luty 2020',\n",
              "       '24 Luty 2020', '20 Luty 2020',\n",
              "       'archiwalne! Wygasło:  Środa 20 Maj 2020',\n",
              "       'archiwalne! Wygasło:  Wtorek 19 Maj 2020',\n",
              "       'archiwalne! Wygasło:  Czwartek 14 Maj 2020', '14 Luty 2020',\n",
              "       'archiwalne! Wygasło:  Środa 13 Maj 2020',\n",
              "       'archiwalne! Wygasło:  Poniedziałek 11 Maj 2020',\n",
              "       'archiwalne! Wygasło:  Niedziela 10 Maj 2020',\n",
              "       'archiwalne! Wygasło:  Czwartek 07 Maj 2020', '07 Luty 2020',\n",
              "       'archiwalne! Wygasło:  Środa 06 Maj 2020', '06 Luty 2020',\n",
              "       'archiwalne! Wygasło:  Sobota 02 Maj 2020', '02 Luty 2020',\n",
              "       'archiwalne! Wygasło:  Wtorek 28 Kwiecień 2020', '27 Styczeń 2020',\n",
              "       '23 Styczeń 2020', '21 Styczeń 2020'], dtype=object)"
            ]
          },
          "metadata": {
            "tags": []
          },
          "execution_count": 10
        }
      ]
    },
    {
      "cell_type": "code",
      "metadata": {
        "id": "nKxkG4yYrsa4",
        "colab_type": "code",
        "colab": {}
      },
      "source": [
        ""
      ],
      "execution_count": 0,
      "outputs": []
    },
    {
      "cell_type": "code",
      "metadata": {
        "id": "UX5LkNIfbjwA",
        "colab_type": "code",
        "outputId": "086d09f3-1e7b-48c8-a499-0a2fc2ec5710",
        "colab": {
          "base_uri": "https://localhost:8080/",
          "height": 53
        }
      },
      "source": [
        "df['liczba_zdjec'].unique()"
      ],
      "execution_count": 11,
      "outputs": [
        {
          "output_type": "execute_result",
          "data": {
            "text/plain": [
              "array(['7', '5', '4', '8', '16', '10', '6', '12', '3', '2', '9', '15',\n",
              "       '13', '14', '11', None], dtype=object)"
            ]
          },
          "metadata": {
            "tags": []
          },
          "execution_count": 11
        }
      ]
    },
    {
      "cell_type": "code",
      "metadata": {
        "id": "emTmCy4emVnx",
        "colab_type": "code",
        "outputId": "1510e7d0-2012-4d3b-e49e-d0c4b9b8ee94",
        "colab": {
          "base_uri": "https://localhost:8080/",
          "height": 53
        }
      },
      "source": [
        "df['adres'].unique()"
      ],
      "execution_count": 12,
      "outputs": [
        {
          "output_type": "execute_result",
          "data": {
            "text/plain": [
              "array(['gdynia ', 'sopot ', 'gdańsk ', 'gdańsk', 'sopot', 'gdynia',\n",
              "       'gdynia pokaż na mapie', 'gdańsk pokaż na mapie'], dtype=object)"
            ]
          },
          "metadata": {
            "tags": []
          },
          "execution_count": 12
        }
      ]
    },
    {
      "cell_type": "code",
      "metadata": {
        "id": "b0_YyUM9m0b7",
        "colab_type": "code",
        "outputId": "6554c976-9769-470b-ee0d-23cb8c8ce73d",
        "colab": {
          "base_uri": "https://localhost:8080/",
          "height": 35
        }
      },
      "source": [
        "df['kategoria'].unique()"
      ],
      "execution_count": 13,
      "outputs": [
        {
          "output_type": "execute_result",
          "data": {
            "text/plain": [
              "array(['Mieszkania / Sprzedaż'], dtype=object)"
            ]
          },
          "metadata": {
            "tags": []
          },
          "execution_count": 13
        }
      ]
    },
    {
      "cell_type": "code",
      "metadata": {
        "id": "XEl3v5t_m9xu",
        "colab_type": "code",
        "outputId": "4748cc0d-de11-4012-db86-ba913f2efec5",
        "colab": {
          "base_uri": "https://localhost:8080/",
          "height": 253
        }
      },
      "source": [
        "df['powierzchnia'].unique()"
      ],
      "execution_count": 14,
      "outputs": [
        {
          "output_type": "execute_result",
          "data": {
            "text/plain": [
              "array(['127 ', '80 ', '77 ', '53 ', '74 ', '50 ', '47 ', '98 ', '89 ',\n",
              "       '140 ', '51 ', '41 ', '45 ', '115 ', '90 ', '64 ', '71 ', '73 ',\n",
              "       '168 ', '72 ', '69 ', '105 ', '68 ', '70 ', '56 ', '49 ', '103 ',\n",
              "       '92 ', '31 ', '131 ', '128 ', '95 ', '57 ', '35 ', '102 ', '134 ',\n",
              "       '76 ', '93 ', '88 ', '40 ', '52 ', '144 ', '99 ', '55 ', '60 ',\n",
              "       '54 ', '96 ', '42 ', '30 ', '66 ', '59 ', '119 ', '67 ', '62 ',\n",
              "       '43 ', '58 ', '27 ', '87 ', '61 ', '33 ', '28 ', '48 ', '37 ',\n",
              "       '38 ', '26 ', '46 ', '86 ', '107 ', '130 ', '63 ', '100 ', '32 ',\n",
              "       '101 ', '94 ', '75 ', '111 ', '120 ', '91 ', '81 ', '7900 ',\n",
              "       '108 ', '29 ', '44 ', '83 ', '169 ', '36 ', '65 ', '112 ', '84 ',\n",
              "       '145 ', '25 ', '34 ', '82 ', '79 ', '109 ', '85 ', '123 ', '24 ',\n",
              "       '78 ', '39 ', '129 ', '196 ', '122 ', '126 ', '113 ', '18 '],\n",
              "      dtype=object)"
            ]
          },
          "metadata": {
            "tags": []
          },
          "execution_count": 14
        }
      ]
    },
    {
      "cell_type": "code",
      "metadata": {
        "id": "udqZtmxinHGi",
        "colab_type": "code",
        "outputId": "550ee55c-fbb6-47ca-d198-06d68d045383",
        "colab": {
          "base_uri": "https://localhost:8080/",
          "height": 53
        }
      },
      "source": [
        "df['liczba-pokoi'].unique()"
      ],
      "execution_count": 15,
      "outputs": [
        {
          "output_type": "execute_result",
          "data": {
            "text/plain": [
              "array(['4 pokoje ', '3 pokoje ', '2 pokoje ', '5 i więcej ', '1 pokój ',\n",
              "       nan], dtype=object)"
            ]
          },
          "metadata": {
            "tags": []
          },
          "execution_count": 15
        }
      ]
    },
    {
      "cell_type": "code",
      "metadata": {
        "id": "YCBL0roKnOKS",
        "colab_type": "code",
        "outputId": "b1a62fb7-c0c7-4fac-981b-1a42603ee88f",
        "colab": {
          "base_uri": "https://localhost:8080/",
          "height": 53
        }
      },
      "source": [
        "df['zabudowa'].unique()"
      ],
      "execution_count": 16,
      "outputs": [
        {
          "output_type": "execute_result",
          "data": {
            "text/plain": [
              "array(['Inne ', 'Kamienica ', 'Apartamentowiec ', 'Blok ', 'Dom '],\n",
              "      dtype=object)"
            ]
          },
          "metadata": {
            "tags": []
          },
          "execution_count": 16
        }
      ]
    },
    {
      "cell_type": "code",
      "metadata": {
        "id": "s51CyX0onhen",
        "colab_type": "code",
        "outputId": "cd4f7323-6d42-4459-f50c-737536b4250a",
        "colab": {
          "base_uri": "https://localhost:8080/",
          "height": 72
        }
      },
      "source": [
        "df['pietro'].unique()"
      ],
      "execution_count": 17,
      "outputs": [
        {
          "output_type": "execute_result",
          "data": {
            "text/plain": [
              "array(['1 piętro ', '2 piętro ', '3 piętro ', 'Parter ', '4 piętro ',\n",
              "       '5 piętro ', '9 piętro ', '8 piętro ', '6 piętro ', '> 10 piętro ',\n",
              "       '10 piętro ', 'Suterena ', nan, '7 piętro '], dtype=object)"
            ]
          },
          "metadata": {
            "tags": []
          },
          "execution_count": 17
        }
      ]
    },
    {
      "cell_type": "code",
      "metadata": {
        "id": "i6ju2Q10noT9",
        "colab_type": "code",
        "outputId": "ce2a0be4-97a0-4fec-a117-b65ef81b1b49",
        "colab": {
          "base_uri": "https://localhost:8080/",
          "height": 53
        }
      },
      "source": [
        "df['liczba-pieter'].unique()"
      ],
      "execution_count": 18,
      "outputs": [
        {
          "output_type": "execute_result",
          "data": {
            "text/plain": [
              "array(['1 piętrowy ', '3 piętrowy ', 'Wieżowiec ', '4 piętrowy ',\n",
              "       '2 piętrowy ', '5 piętrowy ', nan, 'Parterowy '], dtype=object)"
            ]
          },
          "metadata": {
            "tags": []
          },
          "execution_count": 18
        }
      ]
    },
    {
      "cell_type": "code",
      "metadata": {
        "id": "uFfb3yF0n75w",
        "colab_type": "code",
        "outputId": "a93a2360-6438-4c77-82ce-733bcbda358f",
        "colab": {
          "base_uri": "https://localhost:8080/",
          "height": 35
        }
      },
      "source": [
        "df['rynek'].unique()"
      ],
      "execution_count": 19,
      "outputs": [
        {
          "output_type": "execute_result",
          "data": {
            "text/plain": [
              "array(['Wtórny ', 'Pierwotny ', nan], dtype=object)"
            ]
          },
          "metadata": {
            "tags": []
          },
          "execution_count": 19
        }
      ]
    },
    {
      "cell_type": "code",
      "metadata": {
        "id": "6nFfh9RpoDWw",
        "colab_type": "code",
        "outputId": "375b609f-b5cd-4986-c910-4964a302ced4",
        "colab": {
          "base_uri": "https://localhost:8080/",
          "height": 217
        }
      },
      "source": [
        "df['rok-budowy'].unique()"
      ],
      "execution_count": 20,
      "outputs": [
        {
          "output_type": "execute_result",
          "data": {
            "text/plain": [
              "array(['2020 ', nan, '2008 ', '1961 ', '1950 ', '2009 ', '1934 ', '2005 ',\n",
              "       '2018 ', '2017 ', '2013 ', '2019 ', '2003 ', '1910 ', '1980 ',\n",
              "       '1990 ', '1960 ', '1962 ', '1920 ', '1966 ', '1995 ', '2006 ',\n",
              "       '2007 ', '1968 ', '1978 ', '1982 ', '1970 ', '1936 ', '2016 ',\n",
              "       '1975 ', '1930 ', '2014 ', '1900 ', '1964 ', '1989 ', '2002 ',\n",
              "       '2021 ', '2015 ', '2012 ', '1955 ', '1996 ', '1984 ', '1963 ',\n",
              "       '1973 ', '1985 ', '1993 ', '1926 ', '1969 ', '1954 ', '2011 ',\n",
              "       '1903 ', '1905 ', '1947 ', '1977 ', '2000 ', '1965 ', '2004 ',\n",
              "       '1959 ', '2010 ', '1967 ', '1953 ', '1901 ', '1987 ', '1998 ',\n",
              "       '1952 ', '1976 ', '1935 ', '1988 ', '1938 ', '1902 ', '1992 ',\n",
              "       '1974 ', '1927 ', '1940 ', '1971 '], dtype=object)"
            ]
          },
          "metadata": {
            "tags": []
          },
          "execution_count": 20
        }
      ]
    },
    {
      "cell_type": "code",
      "metadata": {
        "id": "-JO0XLKboQHV",
        "colab_type": "code",
        "outputId": "79831c51-5f3c-4ea3-fac7-92aa92bf153e",
        "colab": {
          "base_uri": "https://localhost:8080/",
          "height": 235
        }
      },
      "source": [
        "df['dzielnica'].unique()"
      ],
      "execution_count": 21,
      "outputs": [
        {
          "output_type": "execute_result",
          "data": {
            "text/plain": [
              "array([' pogórze', ' centrum', ' działki leśne', ' osowa', '', ' orłowo',\n",
              "       ' śródmieście', ' redłowo', ' chylonia', ' wrzeszcz', ' chełm',\n",
              "       ' chwarzno-wiczlino', ' przymorze małe', ' brzeźno',\n",
              "       ' przymorze wielkie pokaż na mapie', ' oliwa pokaż na mapie',\n",
              "       ' piecki-migowo pokaż na mapie', ' wielki kack', ' olszynka',\n",
              "       ' gdańsk południe', ' oliwa', ' suchanino', ' piecki-migowo',\n",
              "       ' brodwino', ' nowy port', ' aniołki', ' leszczynki', ' matarnia',\n",
              "       ' letnica', ' górny sopot', ' kamienny potok', ' zaspa-młyniec',\n",
              "       ' grabówek', ' oksywie', ' przymorze wielkie', ' dolny sopot',\n",
              "       ' obłuże', ' dąbrowa', ' rudniki', ' mały kack', ' karwiny',\n",
              "       ' siedlce', ' cisowa', ' wyspa sobieszewska', ' stogi z przeróbką',\n",
              "       ' wzgórze św maksymiliana'], dtype=object)"
            ]
          },
          "metadata": {
            "tags": []
          },
          "execution_count": 21
        }
      ]
    },
    {
      "cell_type": "code",
      "metadata": {
        "id": "OrkybmSubboE",
        "colab_type": "code",
        "colab": {}
      },
      "source": [
        "# months_dict = {\n",
        "#     'Styczeń' : '01',\n",
        "#     'Luty' : '02',\n",
        "#     'Marzec' : '03',\n",
        "#     'Kwiecień' : '04',\n",
        "#     'Maj' : '05',\n",
        "#     'Czerwiec' : '06',\n",
        "#     'Lipiec' : '07',\n",
        "#     'Sierpień' : '08',\n",
        "#     'Wrzesień' : '09',\n",
        "#     'Październik' : '10',\n",
        "#     'Listopad' : '11',\n",
        "#     'Grudzień' : '12',\n",
        "# }\n",
        "\n",
        "# pd.to_datetime(df['data'], format='%d %m %y')\n",
        "# df.head(2)"
      ],
      "execution_count": 0,
      "outputs": []
    },
    {
      "cell_type": "code",
      "metadata": {
        "id": "Mag2_mnTpX_e",
        "colab_type": "code",
        "colab": {}
      },
      "source": [
        "df = df.rename(columns={'liczba_zdjec': 'zdjecie',\n",
        "                        'liczba-pokoi': 'liczba_pokoi',\n",
        "                        'liczba-pieter': 'liczba_pieter_budynku',\n",
        "                        'zabudowa': 'rodzaj_zabudowy',\n",
        "                        'rok-budowy': 'rok_budowy',\n",
        "                        'forma-kuchni': 'kuchnia'})"
      ],
      "execution_count": 0,
      "outputs": []
    },
    {
      "cell_type": "code",
      "metadata": {
        "id": "d7bzF3IroqWs",
        "colab_type": "code",
        "outputId": "9b7a887e-265c-431e-d656-12a349ef59fb",
        "colab": {
          "base_uri": "https://localhost:8080/",
          "height": 235
        }
      },
      "source": [
        "df['cena'].median"
      ],
      "execution_count": 24,
      "outputs": [
        {
          "output_type": "execute_result",
          "data": {
            "text/plain": [
              "<bound method Series.median of 1.000000e+00      587000\n",
              "2.000000e+00      699000\n",
              "4.000000e+00      845840\n",
              "8.000000e+00      599000\n",
              "1.600000e+01      519000\n",
              "                  ...   \n",
              "1.474204e+166     457100\n",
              "2.948408e+166    1590000\n",
              "5.896816e+166     347000\n",
              "1.179363e+167     355000\n",
              "2.358727e+167     483000\n",
              "Name: cena, Length: 557, dtype: object>"
            ]
          },
          "metadata": {
            "tags": []
          },
          "execution_count": 24
        }
      ]
    },
    {
      "cell_type": "code",
      "metadata": {
        "id": "7_u8eYsWnAR8",
        "colab_type": "code",
        "outputId": "b4830030-cd95-4121-aa4e-9a2a16cb4d1d",
        "colab": {
          "base_uri": "https://localhost:8080/",
          "height": 592
        }
      },
      "source": [
        "df['cena'].hist(bins=100, figsize=(20,10));"
      ],
      "execution_count": 25,
      "outputs": [
        {
          "output_type": "display_data",
          "data": {
            "image/png": "[encoded data removed]",
            "text/plain": [
              "<Figure size 1440x720 with 1 Axes>"
            ]
          },
          "metadata": {
            "tags": [],
            "needs_background": "light"
          }
        }
      ]
    },
    {
      "cell_type": "code",
      "metadata": {
        "id": "RXDXijLRtWyL",
        "colab_type": "code",
        "outputId": "6a79d1bc-6327-41c0-a5b0-ac7f978d80ff",
        "colab": {
          "base_uri": "https://localhost:8080/",
          "height": 197
        }
      },
      "source": [
        "df['powierzchnia'].hist(bins=100, figsize=(80,10));"
      ],
      "execution_count": 26,
      "outputs": [
        {
          "output_type": "display_data",
          "data": {
            "image/png": "[encoded data removed]",
            "text/plain": [
              "<Figure size 5760x720 with 1 Axes>"
            ]
          },
          "metadata": {
            "tags": [],
            "needs_background": "light"
          }
        }
      ]
    },
    {
      "cell_type": "code",
      "metadata": {
        "id": "kBvq6kGbfcyA",
        "colab_type": "code",
        "outputId": "c8641db2-a1cf-4118-a8aa-e3fed47beb10",
        "colab": {
          "base_uri": "https://localhost:8080/",
          "height": 320
        }
      },
      "source": [
        "df['cena_za_metr'].hist(bins=50, figsize=(12,5));"
      ],
      "execution_count": 27,
      "outputs": [
        {
          "output_type": "display_data",
          "data": {
            "image/png": "[encoded data removed]",
            "text/plain": [
              "<Figure size 864x360 with 1 Axes>"
            ]
          },
          "metadata": {
            "tags": [],
            "needs_background": "light"
          }
        }
      ]
    },
    {
      "cell_type": "code",
      "metadata": {
        "id": "HoDcTlcPu5Ci",
        "colab_type": "code",
        "outputId": "d60cd966-39a6-4045-8e93-26fc1c185174",
        "colab": {
          "base_uri": "https://localhost:8080/",
          "height": 354
        }
      },
      "source": [
        "df[df.cena_za_metr < 3000]"
      ],
      "execution_count": 28,
      "outputs": [
        {
          "output_type": "execute_result",
          "data": {
            "text/html": [
              "<div>\n",
              "<style scoped>\n",
              "    .dataframe tbody tr th:only-of-type {\n",
              "        vertical-align: middle;\n",
              "    }\n",
              "\n",
              "    .dataframe tbody tr th {\n",
              "        vertical-align: top;\n",
              "    }\n",
              "\n",
              "    .dataframe thead th {\n",
              "        text-align: right;\n",
              "    }\n",
              "</style>\n",
              "<table border=\"1\" class=\"dataframe\">\n",
              "  <thead>\n",
              "    <tr style=\"text-align: right;\">\n",
              "      <th></th>\n",
              "      <th>data</th>\n",
              "      <th>cena</th>\n",
              "      <th>cena_za_metr</th>\n",
              "      <th>zdjecie</th>\n",
              "      <th>tytul</th>\n",
              "      <th>adres</th>\n",
              "      <th>wysweitlenia</th>\n",
              "      <th>kategoria</th>\n",
              "      <th>powierzchnia</th>\n",
              "      <th>liczba_pokoi</th>\n",
              "      <th>rodzaj_zabudowy</th>\n",
              "      <th>pietro</th>\n",
              "      <th>liczba_pieter_budynku</th>\n",
              "      <th>rynek</th>\n",
              "      <th>rok_budowy</th>\n",
              "      <th>tech-budowy</th>\n",
              "      <th>stan</th>\n",
              "      <th>kuchnia</th>\n",
              "      <th>pow-dodatkowa</th>\n",
              "      <th>numer-ksiegi-wieczystej</th>\n",
              "      <th>godzina</th>\n",
              "      <th>dzielnica</th>\n",
              "    </tr>\n",
              "  </thead>\n",
              "  <tbody>\n",
              "    <tr>\n",
              "      <th>2.008673e+59</th>\n",
              "      <td>06 Maj 2020</td>\n",
              "      <td>282741</td>\n",
              "      <td>36.0</td>\n",
              "      <td>5</td>\n",
              "      <td>Mieszkanie Gdynia Oksywie, Inż. J. Śmidowicza</td>\n",
              "      <td>gdynia</td>\n",
              "      <td>48</td>\n",
              "      <td>Mieszkania / Sprzedaż</td>\n",
              "      <td>7900</td>\n",
              "      <td>2 pokoje</td>\n",
              "      <td>Blok</td>\n",
              "      <td>3 piętro</td>\n",
              "      <td>3 piętrowy</td>\n",
              "      <td>Wtórny</td>\n",
              "      <td>NaN</td>\n",
              "      <td>NaN</td>\n",
              "      <td>NaN</td>\n",
              "      <td>NaN</td>\n",
              "      <td>NaN</td>\n",
              "      <td>NaN</td>\n",
              "      <td>10:40</td>\n",
              "      <td>oksywie</td>\n",
              "    </tr>\n",
              "    <tr>\n",
              "      <th>2.745919e+157</th>\n",
              "      <td>28 Luty 2020</td>\n",
              "      <td>260000</td>\n",
              "      <td>2989.0</td>\n",
              "      <td>8</td>\n",
              "      <td>MIESZKANIE Z WIDOKIEM NA MORZE</td>\n",
              "      <td>sopot</td>\n",
              "      <td>135</td>\n",
              "      <td>Mieszkania / Sprzedaż</td>\n",
              "      <td>87</td>\n",
              "      <td>4 pokoje</td>\n",
              "      <td>Blok</td>\n",
              "      <td>4 piętro</td>\n",
              "      <td>NaN</td>\n",
              "      <td>Wtórny</td>\n",
              "      <td>NaN</td>\n",
              "      <td>Cegła</td>\n",
              "      <td>Świeżo po remoncie</td>\n",
              "      <td>Oddzielna</td>\n",
              "      <td>NaN</td>\n",
              "      <td>NaN</td>\n",
              "      <td>13:11</td>\n",
              "      <td>dolny sopot</td>\n",
              "    </tr>\n",
              "    <tr>\n",
              "      <th>4.606888e+164</th>\n",
              "      <td>archiwalne! Wygasło:  Sobota 02 Maj 2020</td>\n",
              "      <td>140000</td>\n",
              "      <td>2745.0</td>\n",
              "      <td>None</td>\n",
              "      <td>Sprzedam swoją część mieszkania w Gdańsku</td>\n",
              "      <td>gdańsk</td>\n",
              "      <td>296</td>\n",
              "      <td>Mieszkania / Sprzedaż</td>\n",
              "      <td>51</td>\n",
              "      <td>3 pokoje</td>\n",
              "      <td>Blok</td>\n",
              "      <td>1 piętro</td>\n",
              "      <td>4 piętrowy</td>\n",
              "      <td>Pierwotny</td>\n",
              "      <td>NaN</td>\n",
              "      <td>Inne</td>\n",
              "      <td>NaN</td>\n",
              "      <td>Aneks</td>\n",
              "      <td>NaN</td>\n",
              "      <td>NaN</td>\n",
              "      <td>Sobota, 02 Maj, 2020  20:08</td>\n",
              "      <td>wrzeszcz</td>\n",
              "    </tr>\n",
              "  </tbody>\n",
              "</table>\n",
              "</div>"
            ],
            "text/plain": [
              "                                                   data  ...     dzielnica\n",
              "2.008673e+59                                06 Maj 2020  ...       oksywie\n",
              "2.745919e+157                              28 Luty 2020  ...   dolny sopot\n",
              "4.606888e+164  archiwalne! Wygasło:  Sobota 02 Maj 2020  ...      wrzeszcz\n",
              "\n",
              "[3 rows x 22 columns]"
            ]
          },
          "metadata": {
            "tags": []
          },
          "execution_count": 28
        }
      ]
    },
    {
      "cell_type": "code",
      "metadata": {
        "id": "54_JnrKYqaVO",
        "colab_type": "code",
        "outputId": "1ddae77d-ea17-40ec-b543-feb916b6409e",
        "colab": {
          "base_uri": "https://localhost:8080/",
          "height": 539
        }
      },
      "source": [
        "df[df.cena_za_metr > 20000]"
      ],
      "execution_count": 29,
      "outputs": [
        {
          "output_type": "execute_result",
          "data": {
            "text/html": [
              "<div>\n",
              "<style scoped>\n",
              "    .dataframe tbody tr th:only-of-type {\n",
              "        vertical-align: middle;\n",
              "    }\n",
              "\n",
              "    .dataframe tbody tr th {\n",
              "        vertical-align: top;\n",
              "    }\n",
              "\n",
              "    .dataframe thead th {\n",
              "        text-align: right;\n",
              "    }\n",
              "</style>\n",
              "<table border=\"1\" class=\"dataframe\">\n",
              "  <thead>\n",
              "    <tr style=\"text-align: right;\">\n",
              "      <th></th>\n",
              "      <th>data</th>\n",
              "      <th>cena</th>\n",
              "      <th>cena_za_metr</th>\n",
              "      <th>zdjecie</th>\n",
              "      <th>tytul</th>\n",
              "      <th>adres</th>\n",
              "      <th>wysweitlenia</th>\n",
              "      <th>kategoria</th>\n",
              "      <th>powierzchnia</th>\n",
              "      <th>liczba_pokoi</th>\n",
              "      <th>rodzaj_zabudowy</th>\n",
              "      <th>pietro</th>\n",
              "      <th>liczba_pieter_budynku</th>\n",
              "      <th>rynek</th>\n",
              "      <th>rok_budowy</th>\n",
              "      <th>tech-budowy</th>\n",
              "      <th>stan</th>\n",
              "      <th>kuchnia</th>\n",
              "      <th>pow-dodatkowa</th>\n",
              "      <th>numer-ksiegi-wieczystej</th>\n",
              "      <th>godzina</th>\n",
              "      <th>dzielnica</th>\n",
              "    </tr>\n",
              "  </thead>\n",
              "  <tbody>\n",
              "    <tr>\n",
              "      <th>6.553600e+04</th>\n",
              "      <td>19 Maj 2020</td>\n",
              "      <td>1450000</td>\n",
              "      <td>20423.0</td>\n",
              "      <td>16</td>\n",
              "      <td>Mieszkanie Gdańsk gm. GDANSK STARÓWKA, Targ Rybny</td>\n",
              "      <td>gdańsk</td>\n",
              "      <td>196</td>\n",
              "      <td>Mieszkania / Sprzedaż</td>\n",
              "      <td>71</td>\n",
              "      <td>2 pokoje</td>\n",
              "      <td>Apartamentowiec</td>\n",
              "      <td>4 piętro</td>\n",
              "      <td>4 piętrowy</td>\n",
              "      <td>Wtórny</td>\n",
              "      <td>2009</td>\n",
              "      <td>NaN</td>\n",
              "      <td>NaN</td>\n",
              "      <td>NaN</td>\n",
              "      <td>NaN</td>\n",
              "      <td>NaN</td>\n",
              "      <td>20:52</td>\n",
              "      <td></td>\n",
              "    </tr>\n",
              "    <tr>\n",
              "      <th>2.097152e+06</th>\n",
              "      <td>19 Maj 2020</td>\n",
              "      <td>1450000</td>\n",
              "      <td>20423.0</td>\n",
              "      <td>16</td>\n",
              "      <td>perła wśród apartamentów Gdańsk 70m widok Motławę</td>\n",
              "      <td>gdańsk</td>\n",
              "      <td>255</td>\n",
              "      <td>Mieszkania / Sprzedaż</td>\n",
              "      <td>71</td>\n",
              "      <td>2 pokoje</td>\n",
              "      <td>Apartamentowiec</td>\n",
              "      <td>5 piętro</td>\n",
              "      <td>3 piętrowy</td>\n",
              "      <td>Wtórny</td>\n",
              "      <td>2009</td>\n",
              "      <td>Inne</td>\n",
              "      <td>NaN</td>\n",
              "      <td>NaN</td>\n",
              "      <td>Balkon</td>\n",
              "      <td>NaN</td>\n",
              "      <td>20:52</td>\n",
              "      <td>śródmieście</td>\n",
              "    </tr>\n",
              "    <tr>\n",
              "      <th>1.342177e+08</th>\n",
              "      <td>19 Maj 2020</td>\n",
              "      <td>1450000</td>\n",
              "      <td>20423.0</td>\n",
              "      <td>16</td>\n",
              "      <td>Mieszkanie Gdańsk gm. GDANSK Stare Miasto, Tar...</td>\n",
              "      <td>gdańsk</td>\n",
              "      <td>120</td>\n",
              "      <td>Mieszkania / Sprzedaż</td>\n",
              "      <td>71</td>\n",
              "      <td>2 pokoje</td>\n",
              "      <td>Apartamentowiec</td>\n",
              "      <td>4 piętro</td>\n",
              "      <td>4 piętrowy</td>\n",
              "      <td>Wtórny</td>\n",
              "      <td>2009</td>\n",
              "      <td>NaN</td>\n",
              "      <td>NaN</td>\n",
              "      <td>NaN</td>\n",
              "      <td>NaN</td>\n",
              "      <td>NaN</td>\n",
              "      <td>20:52</td>\n",
              "      <td></td>\n",
              "    </tr>\n",
              "    <tr>\n",
              "      <th>1.915619e+53</th>\n",
              "      <td>09 Maj 2020</td>\n",
              "      <td>1400000</td>\n",
              "      <td>22581.0</td>\n",
              "      <td>None</td>\n",
              "      <td>Sprzedaż nieszkania (odrębna własność)</td>\n",
              "      <td>sopot</td>\n",
              "      <td>690</td>\n",
              "      <td>Mieszkania / Sprzedaż</td>\n",
              "      <td>62</td>\n",
              "      <td>3 pokoje</td>\n",
              "      <td>Blok</td>\n",
              "      <td>NaN</td>\n",
              "      <td>NaN</td>\n",
              "      <td>NaN</td>\n",
              "      <td>NaN</td>\n",
              "      <td>NaN</td>\n",
              "      <td>Świeżo po remoncie</td>\n",
              "      <td>Oddzielna</td>\n",
              "      <td>NaN</td>\n",
              "      <td>NaN</td>\n",
              "      <td>23:40</td>\n",
              "      <td>kamienny potok</td>\n",
              "    </tr>\n",
              "    <tr>\n",
              "      <th>5.653911e+73</th>\n",
              "      <td>01 Maj 2020</td>\n",
              "      <td>4299000</td>\n",
              "      <td>29648.0</td>\n",
              "      <td>16</td>\n",
              "      <td>Mieszkanie Gdańsk Jelitkowo, ul. Wypoczynkowa</td>\n",
              "      <td>gdańsk</td>\n",
              "      <td>456</td>\n",
              "      <td>Mieszkania / Sprzedaż</td>\n",
              "      <td>145</td>\n",
              "      <td>4 pokoje</td>\n",
              "      <td>Blok</td>\n",
              "      <td>1 piętro</td>\n",
              "      <td>3 piętrowy</td>\n",
              "      <td>Wtórny</td>\n",
              "      <td>2018</td>\n",
              "      <td>Inne</td>\n",
              "      <td>NaN</td>\n",
              "      <td>NaN</td>\n",
              "      <td>Balkon</td>\n",
              "      <td>NaN</td>\n",
              "      <td>10:10</td>\n",
              "      <td></td>\n",
              "    </tr>\n",
              "  </tbody>\n",
              "</table>\n",
              "</div>"
            ],
            "text/plain": [
              "                     data     cena  ...  godzina        dzielnica\n",
              "6.553600e+04  19 Maj 2020  1450000  ...    20:52                 \n",
              "2.097152e+06  19 Maj 2020  1450000  ...    20:52      śródmieście\n",
              "1.342177e+08  19 Maj 2020  1450000  ...    20:52                 \n",
              "1.915619e+53  09 Maj 2020  1400000  ...    23:40   kamienny potok\n",
              "5.653911e+73  01 Maj 2020  4299000  ...    10:10                 \n",
              "\n",
              "[5 rows x 22 columns]"
            ]
          },
          "metadata": {
            "tags": []
          },
          "execution_count": 29
        }
      ]
    },
    {
      "cell_type": "code",
      "metadata": {
        "id": "wlRVTrXit2Lr",
        "colab_type": "code",
        "outputId": "437942d4-e578-4e10-b4fc-144a79c49946",
        "colab": {
          "base_uri": "https://localhost:8080/",
          "height": 320
        }
      },
      "source": [
        "df['liczba_pokoi'].hist(bins=10, figsize=(12,5));"
      ],
      "execution_count": 31,
      "outputs": [
        {
          "output_type": "display_data",
          "data": {
            "image/png": "[encoded data removed]",
            "text/plain": [
              "<Figure size 864x360 with 1 Axes>"
            ]
          },
          "metadata": {
            "tags": [],
            "needs_background": "light"
          }
        }
      ]
    },
    {
      "cell_type": "code",
      "metadata": {
        "id": "CwXOu01WuSDV",
        "colab_type": "code",
        "outputId": "20968b93-a187-403a-8376-c9e213d81e12",
        "colab": {
          "base_uri": "https://localhost:8080/",
          "height": 320
        }
      },
      "source": [
        "df['rodzaj_zabudowy'].hist(bins=10, figsize=(12,5));"
      ],
      "execution_count": 33,
      "outputs": [
        {
          "output_type": "display_data",
          "data": {
            "image/png": "[encoded data removed]",
            "text/plain": [
              "<Figure size 864x360 with 1 Axes>"
            ]
          },
          "metadata": {
            "tags": [],
            "needs_background": "light"
          }
        }
      ]
    },
    {
      "cell_type": "code",
      "metadata": {
        "id": "6weFLjRYuYzt",
        "colab_type": "code",
        "outputId": "ce99cd33-fad4-4b8e-d00c-e7e10fbe2adc",
        "colab": {
          "base_uri": "https://localhost:8080/",
          "height": 320
        }
      },
      "source": [
        "df['pietro'].hist(bins=50, figsize=(15,5));"
      ],
      "execution_count": 34,
      "outputs": [
        {
          "output_type": "display_data",
          "data": {
            "image/png": "[encoded data removed]",
            "text/plain": [
              "<Figure size 1080x360 with 1 Axes>"
            ]
          },
          "metadata": {
            "tags": [],
            "needs_background": "light"
          }
        }
      ]
    },
    {
      "cell_type": "code",
      "metadata": {
        "id": "uV9u8YbTur9V",
        "colab_type": "code",
        "outputId": "f83b8da4-54e2-439b-e4ff-ac18876a5171",
        "colab": {
          "base_uri": "https://localhost:8080/",
          "height": 320
        }
      },
      "source": [
        "df['liczba_pieter_budynku'].hist(bins=20, figsize=(12,5));"
      ],
      "execution_count": 37,
      "outputs": [
        {
          "output_type": "display_data",
          "data": {
            "image/png": "[encoded data removed]",
            "text/plain": [
              "<Figure size 864x360 with 1 Axes>"
            ]
          },
          "metadata": {
            "tags": [],
            "needs_background": "light"
          }
        }
      ]
    },
    {
      "cell_type": "code",
      "metadata": {
        "id": "h1A0__0ou0v9",
        "colab_type": "code",
        "outputId": "a1113b5a-a393-4202-fe47-246ee61fa4c8",
        "colab": {
          "base_uri": "https://localhost:8080/",
          "height": 320
        }
      },
      "source": [
        "df['rynek'].hist(bins=3, figsize=(12,5));"
      ],
      "execution_count": 38,
      "outputs": [
        {
          "output_type": "display_data",
          "data": {
            "image/png": "[encoded data removed]",
            "text/plain": [
              "<Figure size 864x360 with 1 Axes>"
            ]
          },
          "metadata": {
            "tags": [],
            "needs_background": "light"
          }
        }
      ]
    },
    {
      "cell_type": "code",
      "metadata": {
        "id": "keMJVV5_u_A-",
        "colab_type": "code",
        "outputId": "77e648a9-74c8-4770-c008-f6235898a332",
        "colab": {
          "base_uri": "https://localhost:8080/",
          "height": 318
        }
      },
      "source": [
        "df['rok_budowy'].hist(bins=200, figsize=(25,5));"
      ],
      "execution_count": 40,
      "outputs": [
        {
          "output_type": "display_data",
          "data": {
            "image/png": "[encoded data removed]",
            "text/plain": [
              "<Figure size 1800x360 with 1 Axes>"
            ]
          },
          "metadata": {
            "tags": [],
            "needs_background": "light"
          }
        }
      ]
    },
    {
      "cell_type": "code",
      "metadata": {
        "id": "L-9isiAHXtcM",
        "colab_type": "code",
        "outputId": "76188014-0efe-4ad5-9fbb-83fb41985e93",
        "colab": {
          "base_uri": "https://localhost:8080/",
          "height": 320
        }
      },
      "source": [
        "df.adres.hist(figsize=(15,5));"
      ],
      "execution_count": 45,
      "outputs": [
        {
          "output_type": "display_data",
          "data": {
            "image/png": "[encoded data removed]",
            "text/plain": [
              "<Figure size 1080x360 with 1 Axes>"
            ]
          },
          "metadata": {
            "tags": [],
            "needs_background": "light"
          }
        }
      ]
    },
    {
      "cell_type": "code",
      "metadata": {
        "id": "8vzcgvlhW1et",
        "colab_type": "code",
        "colab": {}
      },
      "source": [
        ""
      ],
      "execution_count": 0,
      "outputs": []
    }
  ]
}